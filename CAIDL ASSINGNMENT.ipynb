{
  "nbformat": 4,
  "nbformat_minor": 0,
  "metadata": {
    "colab": {
      "name": "CAIDL ASSIGEMENT 1",
      "provenance": [],
      "collapsed_sections": [],
      "authorship_tag": "ABX9TyOHcDzrzer1LrY8ZCsvbBOM",
      "include_colab_link": true
    },
    "kernelspec": {
      "name": "python3",
      "display_name": "Python 3"
    }
  },
  "cells": [
    {
      "cell_type": "markdown",
      "metadata": {
        "id": "view-in-github",
        "colab_type": "text"
      },
      "source": [
        "<a href=\"https://colab.research.google.com/github/raviteja1432/Python-Assignments/blob/master/CAIDL%20ASSINGNMENT.ipynb\" target=\"_parent\"><img src=\"https://colab.research.google.com/assets/colab-badge.svg\" alt=\"Open In Colab\"/></a>"
      ]
    },
    {
      "cell_type": "markdown",
      "metadata": {
        "id": "wNv64gwRLVDa",
        "colab_type": "text"
      },
      "source": [
        "1.QUESTION"
      ]
    },
    {
      "cell_type": "code",
      "metadata": {
        "id": "lfkbqux0RPik",
        "colab_type": "code",
        "colab": {
          "base_uri": "https://localhost:8080/",
          "height": 102
        },
        "outputId": "1178fc80-3068-4e7a-88a5-2988c69ed4df"
      },
      "source": [
        "#1.predicate the output for the following code snippets\n",
        "print(0.1+0.2)\n",
        "print(\"1.8\"+\"2\")\n",
        "print(87>78)\n",
        "print((0.1+0.2)==0.3)\n",
        "print(\"Predict\" \"Output\" ,\".....\")"
      ],
      "execution_count": null,
      "outputs": [
        {
          "output_type": "stream",
          "text": [
            "0.30000000000000004\n",
            "1.82\n",
            "True\n",
            "False\n",
            "PredictOutput .....\n"
          ],
          "name": "stdout"
        }
      ]
    },
    {
      "cell_type": "markdown",
      "metadata": {
        "id": "XibD04CWLaNz",
        "colab_type": "text"
      },
      "source": [
        "2.QUESTION"
      ]
    },
    {
      "cell_type": "code",
      "metadata": {
        "id": "jnI-rwaKRQQI",
        "colab_type": "code",
        "colab": {
          "base_uri": "https://localhost:8080/",
          "height": 285
        },
        "outputId": "d331820e-75a8-4ab5-d0e2-5d77565847f9"
      },
      "source": [
        "#2.predicte the output for the following code snippets:\n",
        "print(\"Prints\",\"multiple\",\"messages\\n\")\n",
        "print(\"Concatenate \"+\" two strings\\n\")\n",
        "print(5+6+\" adds two numbers\\n\")"
      ],
      "execution_count": null,
      "outputs": [
        {
          "output_type": "stream",
          "text": [
            "Prints multiple messages\n",
            "\n",
            "Concatenate  two strings\n",
            "\n"
          ],
          "name": "stdout"
        },
        {
          "output_type": "error",
          "ename": "TypeError",
          "evalue": "ignored",
          "traceback": [
            "\u001b[0;31m---------------------------------------------------------------------------\u001b[0m",
            "\u001b[0;31mTypeError\u001b[0m                                 Traceback (most recent call last)",
            "\u001b[0;32m<ipython-input-3-8b799acd5328>\u001b[0m in \u001b[0;36m<module>\u001b[0;34m()\u001b[0m\n\u001b[1;32m      2\u001b[0m \u001b[0mprint\u001b[0m\u001b[0;34m(\u001b[0m\u001b[0;34m\"Prints\"\u001b[0m\u001b[0;34m,\u001b[0m\u001b[0;34m\"multiple\"\u001b[0m\u001b[0;34m,\u001b[0m\u001b[0;34m\"messages\\n\"\u001b[0m\u001b[0;34m)\u001b[0m\u001b[0;34m\u001b[0m\u001b[0;34m\u001b[0m\u001b[0m\n\u001b[1;32m      3\u001b[0m \u001b[0mprint\u001b[0m\u001b[0;34m(\u001b[0m\u001b[0;34m\"Concatenate \"\u001b[0m\u001b[0;34m+\u001b[0m\u001b[0;34m\" two strings\\n\"\u001b[0m\u001b[0;34m)\u001b[0m\u001b[0;34m\u001b[0m\u001b[0;34m\u001b[0m\u001b[0m\n\u001b[0;32m----> 4\u001b[0;31m \u001b[0mprint\u001b[0m\u001b[0;34m(\u001b[0m\u001b[0;36m5\u001b[0m\u001b[0;34m+\u001b[0m\u001b[0;36m6\u001b[0m\u001b[0;34m+\u001b[0m\u001b[0;34m\" adds two numbers\\n\"\u001b[0m\u001b[0;34m)\u001b[0m\u001b[0;34m\u001b[0m\u001b[0;34m\u001b[0m\u001b[0m\n\u001b[0m",
            "\u001b[0;31mTypeError\u001b[0m: unsupported operand type(s) for +: 'int' and 'str'"
          ]
        }
      ]
    },
    {
      "cell_type": "markdown",
      "metadata": {
        "id": "slzSF4dbLeoj",
        "colab_type": "text"
      },
      "source": [
        "3.QUESTION"
      ]
    },
    {
      "cell_type": "code",
      "metadata": {
        "id": "lIFEd1GiO1i6",
        "colab_type": "code",
        "colab": {
          "base_uri": "https://localhost:8080/",
          "height": 51
        },
        "outputId": "f8b8f56b-b39c-4bee-90a0-e070ae93b692"
      },
      "source": [
        "#3.Correct the given code snippets (only one change is allowed)\n",
        "print(\"ba\"+\"na\"*2)\n",
        "print(r\"c:\\naresh\\raju\\abhi\")"
      ],
      "execution_count": null,
      "outputs": [
        {
          "output_type": "stream",
          "text": [
            "banana\n",
            "c:\\naresh\\raju\\abhi\n"
          ],
          "name": "stdout"
        }
      ]
    },
    {
      "cell_type": "markdown",
      "metadata": {
        "id": "2XibNkrv64r2",
        "colab_type": "text"
      },
      "source": [
        "4.QUESTION:"
      ]
    },
    {
      "cell_type": "code",
      "metadata": {
        "id": "Cdn3MDvZzH3R",
        "colab_type": "code",
        "colab": {
          "base_uri": "https://localhost:8080/",
          "height": 34
        },
        "outputId": "3bae87f1-f7b9-43e0-892f-2f08acd58393"
      },
      "source": [
        "#4.Correct the given code snippets:\n",
        "'Welcome to python traing program'[-4:-33:-4]"
      ],
      "execution_count": null,
      "outputs": [
        {
          "output_type": "execute_result",
          "data": {
            "text/plain": [
              "'g anytoW'"
            ]
          },
          "metadata": {
            "tags": []
          },
          "execution_count": 16
        }
      ]
    },
    {
      "cell_type": "code",
      "metadata": {
        "id": "k5EBu5OPyRNj",
        "colab_type": "code",
        "colab": {
          "base_uri": "https://localhost:8080/",
          "height": 34
        },
        "outputId": "321cf784-10a1-47c3-e5a8-bcb1924a4686"
      },
      "source": [
        "print(\"Substring --    \"+'A series of characters designated as one object know as a string'[2:18:5])"
      ],
      "execution_count": null,
      "outputs": [
        {
          "output_type": "stream",
          "text": [
            "Substring --    sscc\n"
          ],
          "name": "stdout"
        }
      ]
    },
    {
      "cell_type": "markdown",
      "metadata": {
        "id": "lkUKQBkG6tA3",
        "colab_type": "text"
      },
      "source": [
        "5.QUESTION:"
      ]
    },
    {
      "cell_type": "code",
      "metadata": {
        "id": "IbiwDHJ-5Lhx",
        "colab_type": "code",
        "colab": {
          "base_uri": "https://localhost:8080/",
          "height": 34
        },
        "outputId": "42b0cc23-dc49-4a90-c557-8d045cbdf2ed"
      },
      "source": [
        "#5.predicte the output for the given code and justify your result\n",
        "print('A series of characters designated as one object know as a string'[::-1][4::3])"
      ],
      "execution_count": null,
      "outputs": [
        {
          "output_type": "stream",
          "text": [
            "taao eonsdaidrca  is\n"
          ],
          "name": "stdout"
        }
      ]
    },
    {
      "cell_type": "markdown",
      "metadata": {
        "id": "u9NkUihVqYT8",
        "colab_type": "text"
      },
      "source": [
        "Justification:\n",
        "first it print the reverse of the string then it will prints the string from the index value of 4 to last index with a step size of 3"
      ]
    },
    {
      "cell_type": "code",
      "metadata": {
        "id": "Ayz1oDWTq8vY",
        "colab_type": "code",
        "colab": {
          "base_uri": "https://localhost:8080/",
          "height": 34
        },
        "outputId": "1a80f843-0a97-4bf2-b8d2-7d5970014c1d"
      },
      "source": [
        "print(\"-----------\")"
      ],
      "execution_count": null,
      "outputs": [
        {
          "output_type": "stream",
          "text": [
            "-----------\n"
          ],
          "name": "stdout"
        }
      ]
    },
    {
      "cell_type": "markdown",
      "metadata": {
        "id": "rS1RS5HprIvn",
        "colab_type": "text"
      },
      "source": [
        "Justification:\n",
        "every thing enclosed in the \" \" the interpreter will treats it as a string and it will as it is."
      ]
    },
    {
      "cell_type": "code",
      "metadata": {
        "id": "k9yRiTmOrhDm",
        "colab_type": "code",
        "colab": {
          "base_uri": "https://localhost:8080/",
          "height": 34
        },
        "outputId": "a00ad51e-b242-45dd-b48c-71a3f6835e17"
      },
      "source": [
        "print(\"Welcome to python traning program\"[3:10][::-1])"
      ],
      "execution_count": null,
      "outputs": [
        {
          "output_type": "stream",
          "text": [
            "ot emoc\n"
          ],
          "name": "stdout"
        }
      ]
    },
    {
      "cell_type": "markdown",
      "metadata": {
        "id": "vY5SqwJlr9aP",
        "colab_type": "text"
      },
      "source": [
        "Justification: it will starts with exiguction of first slice with an index value of 3 to end with value 10 and then it will reverse the getted string"
      ]
    },
    {
      "cell_type": "markdown",
      "metadata": {
        "id": "YdlxmiCqsdj5",
        "colab_type": "text"
      },
      "source": [
        "6.QUESTION"
      ]
    },
    {
      "cell_type": "code",
      "metadata": {
        "id": "6uREh41EshPQ",
        "colab_type": "code",
        "colab": {
          "base_uri": "https://localhost:8080/",
          "height": 51
        },
        "outputId": "5de523a9-ebc6-43a2-f5c9-b2b44905f14e"
      },
      "source": [
        "str1=True\n",
        "x=5>3\n",
        "print(str1==x)\n",
        "y=5>8\n",
        "print(str1==y)"
      ],
      "execution_count": null,
      "outputs": [
        {
          "output_type": "stream",
          "text": [
            "True\n",
            "False\n"
          ],
          "name": "stdout"
        }
      ]
    },
    {
      "cell_type": "markdown",
      "metadata": {
        "id": "1Mks0Rg3tKAB",
        "colab_type": "text"
      },
      "source": [
        "Justification:\n",
        "first str1 object refers to True,then the x is also equal to True if we use assingment operater between them it will prints True.\n",
        "Then y is equal to False,if we assing str1 with y it prints the False because they are not equal"
      ]
    },
    {
      "cell_type": "code",
      "metadata": {
        "id": "s-2UlUB6uBIc",
        "colab_type": "code",
        "colab": {
          "base_uri": "https://localhost:8080/",
          "height": 34
        },
        "outputId": "87accc5d-43a6-4a43-c126-99f46b6673ab"
      },
      "source": [
        "num=7\n",
        "Name=\"Michael Jackson\"\n",
        "sear_num=Name.find('el')\n",
        "print(num>sear_num)"
      ],
      "execution_count": null,
      "outputs": [
        {
          "output_type": "stream",
          "text": [
            "True\n"
          ],
          "name": "stdout"
        }
      ]
    },
    {
      "cell_type": "markdown",
      "metadata": {
        "id": "8a5OEkK2umR2",
        "colab_type": "text"
      },
      "source": [
        "Justification:\n",
        "first the num object has the value of 7\n",
        "then the Name object has a string\n",
        "sear_num has the number of 'el' in the string.Then compare the num and sear_num,then it will prints True because 7>1"
      ]
    },
    {
      "cell_type": "markdown",
      "metadata": {
        "id": "jABEvqtGvWq6",
        "colab_type": "text"
      },
      "source": [
        "7.QUESTION"
      ]
    },
    {
      "cell_type": "code",
      "metadata": {
        "id": "7TN9HbJnvZXs",
        "colab_type": "code",
        "colab": {
          "base_uri": "https://localhost:8080/",
          "height": 34
        },
        "outputId": "d908f697-f021-4d06-8b82-e72cdc0dabb7"
      },
      "source": [
        "print('p_phrase=\"was it a car or a cat i saw\"'.upper()[-2:9:-1])"
      ],
      "execution_count": null,
      "outputs": [
        {
          "output_type": "stream",
          "text": [
            "WAS I TAC A RO RAC A TI SAW\n"
          ],
          "name": "stdout"
        }
      ]
    },
    {
      "cell_type": "markdown",
      "metadata": {
        "id": "VRiqSvfDK6DX",
        "colab_type": "text"
      },
      "source": [
        "8.QUESTION"
      ]
    },
    {
      "cell_type": "code",
      "metadata": {
        "id": "tg4ERetixc24",
        "colab_type": "code",
        "colab": {
          "base_uri": "https://localhost:8080/",
          "height": 34
        },
        "outputId": "1d4dcb43-edaf-4a5f-dc8c-914328591c8f"
      },
      "source": [
        "print(\"A='1934567'\"[4:9:2])"
      ],
      "execution_count": null,
      "outputs": [
        {
          "output_type": "stream",
          "text": [
            "946\n"
          ],
          "name": "stdout"
        }
      ]
    },
    {
      "cell_type": "markdown",
      "metadata": {
        "id": "qF_KozZ2Kw9n",
        "colab_type": "text"
      },
      "source": [
        "9.QUESTION"
      ]
    },
    {
      "cell_type": "code",
      "metadata": {
        "id": "_t5mm_vJzfB0",
        "colab_type": "code",
        "colab": {
          "base_uri": "https://localhost:8080/",
          "height": 54
        },
        "outputId": "504f80be-4f67-4b86-8a14-419cbec8ba93"
      },
      "source": [
        "fake_phrase=\"Fake news has a knack for spreading like wild\"\n",
        "x=fake_phrase[16:40:].upper()[::-1]\n",
        "x.split()"
      ],
      "execution_count": null,
      "outputs": [
        {
          "output_type": "execute_result",
          "data": {
            "text/plain": [
              "['EKIL', 'GNIDAERPS', 'ROF', 'KCANK']"
            ]
          },
          "metadata": {
            "tags": []
          },
          "execution_count": 22
        }
      ]
    },
    {
      "cell_type": "markdown",
      "metadata": {
        "id": "vt39BMkFKtgc",
        "colab_type": "text"
      },
      "source": [
        "10.QUESTION"
      ]
    },
    {
      "cell_type": "code",
      "metadata": {
        "id": "sUmHiDuD3Zf8",
        "colab_type": "code",
        "colab": {
          "base_uri": "https://localhost:8080/",
          "height": 54
        },
        "outputId": "e48d1e5d-7a81-4a5f-f27b-3cc5fdd7386f"
      },
      "source": [
        "msg1=\"Facebook already uses AI to Filter Fake stories from the feeds of users\"\n",
        "print(msg1.split())"
      ],
      "execution_count": null,
      "outputs": [
        {
          "output_type": "stream",
          "text": [
            "['Facebook', 'already', 'uses', 'AI', 'to', 'Filter', 'Fake', 'stories', 'from', 'the', 'feeds', 'of', 'users']\n"
          ],
          "name": "stdout"
        }
      ]
    },
    {
      "cell_type": "markdown",
      "metadata": {
        "id": "h15KqO_BKpCn",
        "colab_type": "text"
      },
      "source": [
        " 11.QUESTION"
      ]
    },
    {
      "cell_type": "code",
      "metadata": {
        "id": "DsEo2qoA4Zz9",
        "colab_type": "code",
        "colab": {
          "base_uri": "https://localhost:8080/",
          "height": 34
        },
        "outputId": "676323a4-fcc9-4463-ceb0-4e292b37d50f"
      },
      "source": [
        "msg2=\"Welcome to sr engineering college\"\n",
        "x=msg2.count('o')\n",
        "y=msg2.count('r')\n",
        "msg2[y**x:(x**y+x+y):][::-1]"
      ],
      "execution_count": null,
      "outputs": [
        {
          "output_type": "execute_result",
          "data": {
            "text/plain": [
              "' rs ot'"
            ]
          },
          "metadata": {
            "tags": []
          },
          "execution_count": 24
        }
      ]
    },
    {
      "cell_type": "markdown",
      "metadata": {
        "id": "5kTAYkBM5-qz",
        "colab_type": "text"
      },
      "source": [
        "Justification :\n",
        "in msg2 object it stores a string,and the in the x object there is a number of times of o and in y number of times of r from the msg2 object"
      ]
    },
    {
      "cell_type": "markdown",
      "metadata": {
        "id": "ATtUGI8zKVjC",
        "colab_type": "text"
      },
      "source": [
        " 12.QUESTION"
      ]
    },
    {
      "cell_type": "code",
      "metadata": {
        "id": "mWqtQ26M5fNu",
        "colab_type": "code",
        "colab": {
          "base_uri": "https://localhost:8080/",
          "height": 34
        },
        "outputId": "46bc9cdb-af86-45bd-f900-201b3c7c8c10"
      },
      "source": [
        "num1,num2=\"94\",\"30\"\n",
        "data=\"As per Census 2011, Gender ratio of India is 943 females per 1000 males\"\n",
        "num1+num2[0] in data"
      ],
      "execution_count": null,
      "outputs": [
        {
          "output_type": "execute_result",
          "data": {
            "text/plain": [
              "True"
            ]
          },
          "metadata": {
            "tags": []
          },
          "execution_count": 30
        }
      ]
    },
    {
      "cell_type": "markdown",
      "metadata": {
        "id": "5QZfubBS9L82",
        "colab_type": "text"
      },
      "source": [
        "justification:num1 has 94 and num2 has 30.data has the string in it.third line is we have check the num1 value and num2 value in data object"
      ]
    },
    {
      "cell_type": "code",
      "metadata": {
        "id": "pcG0AKD7-d_f",
        "colab_type": "code",
        "colab": {
          "base_uri": "https://localhost:8080/",
          "height": 71
        },
        "outputId": "5def5918-aa18-4668-e5c0-ee463fbd6792"
      },
      "source": [
        "print(data[:45],print(int(num1)+int(num2)))"
      ],
      "execution_count": null,
      "outputs": [
        {
          "output_type": "stream",
          "text": [
            "124\n",
            "As per Census 2011, Gender ratio of India is  None\n"
          ],
          "name": "stdout"
        }
      ]
    },
    {
      "cell_type": "markdown",
      "metadata": {
        "id": "6zgqicWD-xrd",
        "colab_type": "text"
      },
      "source": [
        "justification:\n",
        "first it will prints the num1 + num2 and the it will prints the string of data object from index 0 to 44."
      ]
    },
    {
      "cell_type": "markdown",
      "metadata": {
        "id": "rH0hYn4oKRSk",
        "colab_type": "text"
      },
      "source": [
        "13.QUESTION"
      ]
    },
    {
      "cell_type": "code",
      "metadata": {
        "id": "ba4lOy9n_Ydz",
        "colab_type": "code",
        "colab": {
          "base_uri": "https://localhost:8080/",
          "height": 105
        },
        "outputId": "0a9185cb-af62-4401-9814-3b5ef4a17238"
      },
      "source": [
        "M=float(input(\"Enter the weight of the water in kilograms : \"))\n",
        "initialTemperature=float(input(\"Enter the intial temperature of water in degree celsius : \"))\n",
        "finalTemperature=float(input(\"Enter the final temperature of water in degree celsius : \"))\n",
        "Q=M*(finalTemperature - initialTemperature)*4184\n",
        "print(f'Energy requried to heat the given water : {Q} joules')"
      ],
      "execution_count": 5,
      "outputs": [
        {
          "output_type": "stream",
          "text": [
            "Enter the weight of the water in kilograms : 20\n",
            "Enter the intial temperature of water in degree celsius : 6\n",
            "Enter the final temperature of water in degree celsius : 8\n",
            "Energy requried to heat the given water : 167360.0 joules\n"
          ],
          "name": "stdout"
        }
      ]
    },
    {
      "cell_type": "markdown",
      "metadata": {
        "id": "VbpRoJYBKLZ1",
        "colab_type": "text"
      },
      "source": [
        "14.QUESTION"
      ]
    },
    {
      "cell_type": "code",
      "metadata": {
        "id": "1DkdywYKHuUz",
        "colab_type": "code",
        "colab": {
          "base_uri": "https://localhost:8080/",
          "height": 51
        },
        "outputId": "2adfad3b-0395-4ce1-c3a2-4db569ff2514"
      },
      "source": [
        "x=int(input(\"Enter the x value : \"))\n",
        "y=x*2\n",
        "print(f\"the word is {'z'*x+'o'*y}\")"
      ],
      "execution_count": 7,
      "outputs": [
        {
          "output_type": "stream",
          "text": [
            "Enter the x value : 2\n",
            "the word is zzoooo\n"
          ],
          "name": "stdout"
        }
      ]
    },
    {
      "cell_type": "markdown",
      "metadata": {
        "id": "Yrgv05QHJ6PK",
        "colab_type": "text"
      },
      "source": [
        "15.QUESTION"
      ]
    },
    {
      "cell_type": "code",
      "metadata": {
        "id": "6hwOlqwIJD2_",
        "colab_type": "code",
        "colab": {
          "base_uri": "https://localhost:8080/",
          "height": 102
        },
        "outputId": "c4f95e24-b61a-4dfb-cbb8-465699e4a272"
      },
      "source": [
        "x=int(input(\"Enter x value : \"))\n",
        "y=int(input(\"Enter y value : \"))\n",
        "power=x**y\n",
        "print(power)\n",
        "divis=int(power/(x*y))\n",
        "print(divis)\n",
        "print(divis^(x+y))"
      ],
      "execution_count": 8,
      "outputs": [
        {
          "output_type": "stream",
          "text": [
            "Enter x value : 5\n",
            "Enter y value : 6\n",
            "15625\n",
            "520\n",
            "515\n"
          ],
          "name": "stdout"
        }
      ]
    }
  ]
}