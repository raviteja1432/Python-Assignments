{
  "nbformat": 4,
  "nbformat_minor": 0,
  "metadata": {
    "colab": {
      "name": "CAIDL ASSIENMENT 2",
      "provenance": [],
      "collapsed_sections": [],
      "authorship_tag": "ABX9TyMCeFTQADJrsAz8RbV5zS/H",
      "include_colab_link": true
    },
    "kernelspec": {
      "name": "python3",
      "display_name": "Python 3"
    }
  },
  "cells": [
    {
      "cell_type": "markdown",
      "metadata": {
        "id": "view-in-github",
        "colab_type": "text"
      },
      "source": [
        "<a href=\"https://colab.research.google.com/github/raviteja1432/Python-Assignments/blob/master/CAIDL_ASSIENMENT_2.ipynb\" target=\"_parent\"><img src=\"https://colab.research.google.com/assets/colab-badge.svg\" alt=\"Open In Colab\"/></a>"
      ]
    },
    {
      "cell_type": "code",
      "metadata": {
        "id": "WqBs44nkIRgG",
        "colab_type": "code",
        "colab": {
          "base_uri": "https://localhost:8080/",
          "height": 51
        },
        "outputId": "e71c5c0a-92ae-4326-ab11-7aa49729df76"
      },
      "source": [
        "#1.question\n",
        "year = int(input(\"Enter year of animal :\"))\n",
        "if year%12==0:\n",
        "   print(\"Monkey\")\n",
        "elif year%12==1:\n",
        "   print(\"Rooster\")\n",
        "elif year%12==2:\n",
        "   print(\"Dog\")\n",
        "elif year%12==3:\n",
        "   print(\"Pig\")\n",
        "elif year%12==4:\n",
        "   print(\"Rat\")\n",
        "elif year%12==5:\n",
        "   print(\"Ox\")\n",
        "elif year%12==6:\n",
        "   print(\"Tiger\")\n",
        "elif year%12==7:\n",
        "   print(\"Rabbit\")\n",
        "elif year%12==8:\n",
        "   print(\"Dragon\")\n",
        "elif year%12==9:\n",
        "   print(\"Snake\")\n",
        "elif year%12==10:\n",
        "   print(\"Horse\")\n",
        "else :\n",
        "   print(\"Sheep\")"
      ],
      "execution_count": null,
      "outputs": [
        {
          "output_type": "stream",
          "text": [
            "Enter year of animal :5\n",
            "Ox\n"
          ],
          "name": "stdout"
        }
      ]
    },
    {
      "cell_type": "code",
      "metadata": {
        "id": "LeCy5esZLZgb",
        "colab_type": "code",
        "colab": {
          "base_uri": "https://localhost:8080/",
          "height": 68
        },
        "outputId": "26e84455-425f-4d93-edf8-60fd51be030d"
      },
      "source": [
        "#2.question\n",
        "kilom=int(input(\" Distance to be travel:\"))\n",
        "weight=int(input(\" weight of the goods:\"))\n",
        "if kilom>=500:\n",
        "   if weight>=100:\n",
        "      print(\"Amount to be charged:  \",kilom*5,'/-')\n",
        "   elif weight>=10 and weight<100:\n",
        "      print(\"Amount to be charged: \",kilom*6,'/-')\n",
        "   else :\n",
        "      print(\"Amount to be charged:  \",kilom*7,'/-')\n",
        "else :\n",
        "   if weight>=100:\n",
        "      print(\"Amount to be charged:  \",kilom*8,'/-')\n",
        "   else :\n",
        "      print(\"Amount to be charged:  \",kilom*5,'/-')"
      ],
      "execution_count": null,
      "outputs": [
        {
          "output_type": "stream",
          "text": [
            " Distance to be travel:520\n",
            " weight of the goods:50\n",
            "Amount to be charged:  3120 /-\n"
          ],
          "name": "stdout"
        }
      ]
    },
    {
      "cell_type": "code",
      "metadata": {
        "id": "tXTxWnyTm8ya",
        "colab_type": "code",
        "colab": {
          "base_uri": "https://localhost:8080/",
          "height": 68
        },
        "outputId": "72d491d5-9cac-4a11-9419-b82893f0d7e1"
      },
      "source": [
        "#3.question\n",
        "seat=input(\"Type of seat:\")\n",
        "payment=input(\"Payment mode:\")\n",
        "if seat==\"Stalls\":\n",
        "    s=625\n",
        "elif seat==\"Circle\":\n",
        "    s=750\n",
        "elif seat==\"Upper Class\":\n",
        "    s=850\n",
        "else:\n",
        "    s=1000\n",
        "if payment==\"Cash\":\n",
        "       c=s-(s*10//100)\n",
        "else:\n",
        "       c=s-(s*5//100)\n",
        "print(\"Cost of ticket:\",c)"
      ],
      "execution_count": null,
      "outputs": [
        {
          "output_type": "stream",
          "text": [
            "Type of seat:Circle\n",
            "Payment mode:Cash\n",
            "Cost of ticket: 675\n"
          ],
          "name": "stdout"
        }
      ]
    },
    {
      "cell_type": "code",
      "metadata": {
        "id": "3sWMTl-PrPUH",
        "colab_type": "code",
        "colab": {
          "base_uri": "https://localhost:8080/",
          "height": 105
        },
        "outputId": "e1d6dc35-5a71-4a24-c519-109386a16433"
      },
      "source": [
        "#4.question\n",
        "M=float(input(\"Enter mass of water:\"))\n",
        "finaltemp=float(input(\"Enter final temperature of water:\"))\n",
        "initaltemp=float(input(\"Enter inital temperature of water:\"))\n",
        "Q=M*(finaltemp-initaltemp)*4184\n",
        "print(\"Energy requried to heat water:\",Q)"
      ],
      "execution_count": null,
      "outputs": [
        {
          "output_type": "stream",
          "text": [
            "Enter mass of water:50.20\n",
            "Enter final temperature of water:200\n",
            "Enter inital temperature of water:150\n",
            "Energy requried to heat water: 10501840.0\n"
          ],
          "name": "stdout"
        }
      ]
    },
    {
      "cell_type": "code",
      "metadata": {
        "id": "wQZn9Vcas-SN",
        "colab_type": "code",
        "colab": {
          "base_uri": "https://localhost:8080/",
          "height": 51
        },
        "outputId": "40e79d07-67e5-40db-ddaf-f9c579b988a2"
      },
      "source": [
        "#5.question\n",
        "month=input(\"Enter month name:\").capitalize()\n",
        "if month==\"December\" or month==\"January\" or month==\"February\":\n",
        "   print(\"Winter\")\n",
        "elif month==\"March\" or month==\"April\" or month==\"May\":\n",
        "   print(\"Spring\")\n",
        "elif month==\"June\" or month==\"July\" or month==\"August\":\n",
        "   print(\"Summer\")\n",
        "elif month==\"September\" or month==\"October\" or month==\"November\":\n",
        "   print(\"Autumn\")\n",
        "else :\n",
        "   print(\"Invalid month\")"
      ],
      "execution_count": 1,
      "outputs": [
        {
          "output_type": "stream",
          "text": [
            "Enter month name:september\n",
            "Autumn\n"
          ],
          "name": "stdout"
        }
      ]
    },
    {
      "cell_type": "code",
      "metadata": {
        "id": "L3pjQTFVx8R2",
        "colab_type": "code",
        "colab": {
          "base_uri": "https://localhost:8080/",
          "height": 68
        },
        "outputId": "00370951-b77d-446d-cee2-bdbde8829ecf"
      },
      "source": [
        " \n",
        "#6.question\n",
        "ht=float(input(\"Enter height in inches:\"))\n",
        "wt=float(input(\"Enter weight in pounds:\"))\n",
        "BMI=(wt*0.45359237)/(ht*ht*0.0254*0.0254)\n",
        "if BMI>=30.0:\n",
        "   print(\"Obese\")\n",
        "elif 18.5<=BMI<=25.0:\n",
        "   print(\"Normal\")\n",
        "elif 25.0<=BMI<=30.0:\n",
        "   print(\"Overweight\")\n",
        "else:\n",
        "   print(\"Underweight\")"
      ],
      "execution_count": null,
      "outputs": [
        {
          "output_type": "stream",
          "text": [
            "Enter height in inches:50\n",
            "Enter weight in pounds:80\n",
            "Normal\n"
          ],
          "name": "stdout"
        }
      ]
    },
    {
      "cell_type": "code",
      "metadata": {
        "id": "OfIiz2Ue1KS8",
        "colab_type": "code",
        "colab": {
          "base_uri": "https://localhost:8080/",
          "height": 71
        },
        "outputId": "4837731c-ee92-4939-982e-b885d9c8605f"
      },
      "source": [
        "#7.question\n",
        "num=input(\"Enter an integer between 100 and 1000:\")\n",
        "add=0\n",
        "for i in num:\n",
        "   add=add+int(i)\n",
        "add"
      ],
      "execution_count": null,
      "outputs": [
        {
          "output_type": "stream",
          "text": [
            "Enter an integer between 100 and 1000:745\n"
          ],
          "name": "stdout"
        },
        {
          "output_type": "execute_result",
          "data": {
            "text/plain": [
              "16"
            ]
          },
          "metadata": {
            "tags": []
          },
          "execution_count": 33
        }
      ]
    },
    {
      "cell_type": "code",
      "metadata": {
        "id": "8RiDI20Q2FOQ",
        "colab_type": "code",
        "colab": {
          "base_uri": "https://localhost:8080/",
          "height": 1000
        },
        "outputId": "799b73f0-9dae-4172-fada-3b129cd92108"
      },
      "source": [
        "#8.question\n",
        "for i in range(1,1000):\n",
        "  add=0\n",
        "  x=i\n",
        "  while i>0:\n",
        "    y=i%10\n",
        "    i=int(i/10)\n",
        "    add=add*10+y\n",
        "  if x==add:\n",
        "     print(x)"
      ],
      "execution_count": null,
      "outputs": [
        {
          "output_type": "stream",
          "text": [
            "1\n",
            "2\n",
            "3\n",
            "4\n",
            "5\n",
            "6\n",
            "7\n",
            "8\n",
            "9\n",
            "11\n",
            "22\n",
            "33\n",
            "44\n",
            "55\n",
            "66\n",
            "77\n",
            "88\n",
            "99\n",
            "101\n",
            "111\n",
            "121\n",
            "131\n",
            "141\n",
            "151\n",
            "161\n",
            "171\n",
            "181\n",
            "191\n",
            "202\n",
            "212\n",
            "222\n",
            "232\n",
            "242\n",
            "252\n",
            "262\n",
            "272\n",
            "282\n",
            "292\n",
            "303\n",
            "313\n",
            "323\n",
            "333\n",
            "343\n",
            "353\n",
            "363\n",
            "373\n",
            "383\n",
            "393\n",
            "404\n",
            "414\n",
            "424\n",
            "434\n",
            "444\n",
            "454\n",
            "464\n",
            "474\n",
            "484\n",
            "494\n",
            "505\n",
            "515\n",
            "525\n",
            "535\n",
            "545\n",
            "555\n",
            "565\n",
            "575\n",
            "585\n",
            "595\n",
            "606\n",
            "616\n",
            "626\n",
            "636\n",
            "646\n",
            "656\n",
            "666\n",
            "676\n",
            "686\n",
            "696\n",
            "707\n",
            "717\n",
            "727\n",
            "737\n",
            "747\n",
            "757\n",
            "767\n",
            "777\n",
            "787\n",
            "797\n",
            "808\n",
            "818\n",
            "828\n",
            "838\n",
            "848\n",
            "858\n",
            "868\n",
            "878\n",
            "888\n",
            "898\n",
            "909\n",
            "919\n",
            "929\n",
            "939\n",
            "949\n",
            "959\n",
            "969\n",
            "979\n",
            "989\n",
            "999\n"
          ],
          "name": "stdout"
        }
      ]
    },
    {
      "cell_type": "code",
      "metadata": {
        "id": "6oRkgwJY4os8",
        "colab_type": "code",
        "colab": {
          "base_uri": "https://localhost:8080/",
          "height": 238
        },
        "outputId": "a40e4bc7-9394-4839-f457-b9797160256b"
      },
      "source": [
        "#9.question\n",
        "for i in range(1,1000):\n",
        "   add=0\n",
        "   x=i\n",
        "   count=len(str(i))\n",
        "   while i>0:\n",
        "     y=i%10\n",
        "     add=add+y**count\n",
        "     i=int(i/10)\n",
        "   if x==add:\n",
        "      print(x)"
      ],
      "execution_count": null,
      "outputs": [
        {
          "output_type": "stream",
          "text": [
            "1\n",
            "2\n",
            "3\n",
            "4\n",
            "5\n",
            "6\n",
            "7\n",
            "8\n",
            "9\n",
            "153\n",
            "370\n",
            "371\n",
            "407\n"
          ],
          "name": "stdout"
        }
      ]
    },
    {
      "cell_type": "code",
      "metadata": {
        "id": "icFTplRb5l28",
        "colab_type": "code",
        "colab": {
          "base_uri": "https://localhost:8080/",
          "height": 1000
        },
        "outputId": "2973b395-3491-419d-a84e-1ae2e0f24d0a"
      },
      "source": [
        "#10.question\n",
        "for i in range(1,100):\n",
        "    if i%3==0 and i%5==0:\n",
        "       print(\"fizz buzz\")\n",
        "    elif i%3==0:\n",
        "       print(\"Fizz\")\n",
        "    elif i%5==0:\n",
        "       print(\"Buzz\")\n",
        "    else :\n",
        "       print(i)"
      ],
      "execution_count": null,
      "outputs": [
        {
          "output_type": "stream",
          "text": [
            "1\n",
            "2\n",
            "Fizz\n",
            "4\n",
            "Buzz\n",
            "Fizz\n",
            "7\n",
            "8\n",
            "Fizz\n",
            "Buzz\n",
            "11\n",
            "Fizz\n",
            "13\n",
            "14\n",
            "fizz buzz\n",
            "16\n",
            "17\n",
            "Fizz\n",
            "19\n",
            "Buzz\n",
            "Fizz\n",
            "22\n",
            "23\n",
            "Fizz\n",
            "Buzz\n",
            "26\n",
            "Fizz\n",
            "28\n",
            "29\n",
            "fizz buzz\n",
            "31\n",
            "32\n",
            "Fizz\n",
            "34\n",
            "Buzz\n",
            "Fizz\n",
            "37\n",
            "38\n",
            "Fizz\n",
            "Buzz\n",
            "41\n",
            "Fizz\n",
            "43\n",
            "44\n",
            "fizz buzz\n",
            "46\n",
            "47\n",
            "Fizz\n",
            "49\n",
            "Buzz\n",
            "Fizz\n",
            "52\n",
            "53\n",
            "Fizz\n",
            "Buzz\n",
            "56\n",
            "Fizz\n",
            "58\n",
            "59\n",
            "fizz buzz\n",
            "61\n",
            "62\n",
            "Fizz\n",
            "64\n",
            "Buzz\n",
            "Fizz\n",
            "67\n",
            "68\n",
            "Fizz\n",
            "Buzz\n",
            "71\n",
            "Fizz\n",
            "73\n",
            "74\n",
            "fizz buzz\n",
            "76\n",
            "77\n",
            "Fizz\n",
            "79\n",
            "Buzz\n",
            "Fizz\n",
            "82\n",
            "83\n",
            "Fizz\n",
            "Buzz\n",
            "86\n",
            "Fizz\n",
            "88\n",
            "89\n",
            "fizz buzz\n",
            "91\n",
            "92\n",
            "Fizz\n",
            "94\n",
            "Buzz\n",
            "Fizz\n",
            "97\n",
            "98\n",
            "Fizz\n"
          ],
          "name": "stdout"
        }
      ]
    },
    {
      "cell_type": "code",
      "metadata": {
        "id": "Ty_asqUT6ePF",
        "colab_type": "code",
        "colab": {
          "base_uri": "https://localhost:8080/",
          "height": 105
        },
        "outputId": "4a9852ba-4ffa-48fe-850a-3831b66e1335"
      },
      "source": [
        "#11.question\n",
        "H=int(input(\"Enter the height of well:\"))\n",
        "U=int(input(\"Enter the meters climb up in each step:\"))\n",
        "D=int(input(\"Enter the meters slips down in each step:\"))\n",
        "N=((H-U)+(U-D))//(U-D)\n",
        "print(N+1)"
      ],
      "execution_count": null,
      "outputs": [
        {
          "output_type": "stream",
          "text": [
            "Enter the height of well:200\n",
            "Enter the meters climb up in each step:50\n",
            "Enter the meters slips down in each step:1\n",
            "5\n"
          ],
          "name": "stdout"
        }
      ]
    }
  ]
}