{
  "nbformat": 4,
  "nbformat_minor": 0,
  "metadata": {
    "colab": {
      "name": "CAIDL ASSINGMENT 3",
      "provenance": [],
      "collapsed_sections": [],
      "authorship_tag": "ABX9TyN9I8hJVFyKO7SXWtvDj/l9",
      "include_colab_link": true
    },
    "kernelspec": {
      "name": "python3",
      "display_name": "Python 3"
    }
  },
  "cells": [
    {
      "cell_type": "markdown",
      "metadata": {
        "id": "view-in-github",
        "colab_type": "text"
      },
      "source": [
        "<a href=\"https://colab.research.google.com/github/raviteja1432/Python-Assignments/blob/master/CAIDL_ASSINGMENT_3.ipynb\" target=\"_parent\"><img src=\"https://colab.research.google.com/assets/colab-badge.svg\" alt=\"Open In Colab\"/></a>"
      ]
    },
    {
      "cell_type": "code",
      "metadata": {
        "id": "4f1KdxrjApsd",
        "colab_type": "code",
        "colab": {
          "base_uri": "https://localhost:8080/",
          "height": 105
        },
        "outputId": "31829fe4-20e6-4f42-f4ca-ff59646a7c73"
      },
      "source": [
        "#1.question\n",
        "a=float(input(\"Enter first side:\"))\n",
        "b=float(input(\"Enter second side:\"))\n",
        "c=float(input(\"Enter third side:\"))\n",
        "s=(a+b+c)/2\n",
        "area=(s*(s*a)*(s*b)*(s*c))**0.5\n",
        "print(f\"The area of the triangle is {area}\")"
      ],
      "execution_count": 121,
      "outputs": [
        {
          "output_type": "stream",
          "text": [
            "Enter first side:2\n",
            "Enter second side:4\n",
            "Enter third side:8\n",
            "The area of the triangle is 392.0\n"
          ],
          "name": "stdout"
        }
      ]
    },
    {
      "cell_type": "code",
      "metadata": {
        "id": "cz-iBQPD_X5r",
        "colab_type": "code",
        "colab": {
          "base_uri": "https://localhost:8080/",
          "height": 51
        },
        "outputId": "dd6c7cb4-233c-4e43-aab6-fe791ef27528"
      },
      "source": [
        "#2.question\n",
        "string=input(\"Enter a string:\")\n",
        "if(string==string[::-1]):\n",
        "    print(\"It is a palindrom\")\n",
        "else:\n",
        "    print(\"It is not a palindrom\")"
      ],
      "execution_count": 108,
      "outputs": [
        {
          "output_type": "stream",
          "text": [
            "Enter a string:madam\n",
            "It is a palindrom\n"
          ],
          "name": "stdout"
        }
      ]
    },
    {
      "cell_type": "code",
      "metadata": {
        "id": "fsgAjQaC9IFq",
        "colab_type": "code",
        "colab": {
          "base_uri": "https://localhost:8080/",
          "height": 51
        },
        "outputId": "6f316167-348a-4adc-ed40-96993319bc60"
      },
      "source": [
        "#3.question\n",
        "year=int(input(\"Enter a year:\"))\n",
        "if (year%4)==0:\n",
        "    print(\"The year {} is a leap year\".format(year))\n",
        "elif (year%100)==0:\n",
        "    print(\"The year {} is not a leap year\".format(year))\n",
        "elif (year%400)==0:\n",
        "    print(\"The year {} is a leap year\".format(year))\n",
        "else:\n",
        "    print(\"The year {} is not a leap year\".format(year))"
      ],
      "execution_count": 107,
      "outputs": [
        {
          "output_type": "stream",
          "text": [
            "Enter a year:2024\n",
            "The year 2024 is a leap year\n"
          ],
          "name": "stdout"
        }
      ]
    },
    {
      "cell_type": "code",
      "metadata": {
        "id": "slq3i77d8sye",
        "colab_type": "code",
        "colab": {
          "base_uri": "https://localhost:8080/",
          "height": 54
        },
        "outputId": "54e2363a-7358-47da-d6a5-0c6c3b496b27"
      },
      "source": [
        "#4.question\n",
        "txt=\"This program converts spaces into hyphen\"\n",
        "x=txt.replace(\" \",\"-\")\n",
        "print(x)"
      ],
      "execution_count": 100,
      "outputs": [
        {
          "output_type": "stream",
          "text": [
            "This-program-converts-spaces-into-hyphen\n"
          ],
          "name": "stdout"
        }
      ]
    },
    {
      "cell_type": "code",
      "metadata": {
        "id": "T0F0k_4kbumK",
        "colab_type": "code",
        "colab": {
          "base_uri": "https://localhost:8080/",
          "height": 71
        },
        "outputId": "ec37aeee-d9b4-4080-b25a-8601a9be59a2"
      },
      "source": [
        " \n",
        "#5.question\n",
        "colors=input(\"Enter colours:\").split(',')\n",
        "items=[x for x in colors]\n",
        "items.sort()\n",
        "print(\"sorted data is\",','.join(items))"
      ],
      "execution_count": null,
      "outputs": [
        {
          "output_type": "stream",
          "text": [
            "Enter colours:cyli,white,grey,apple\n",
            "sorted data is apple,cyli,grey,white\n"
          ],
          "name": "stdout"
        }
      ]
    },
    {
      "cell_type": "code",
      "metadata": {
        "id": "tfeOP3OiX9QB",
        "colab_type": "code",
        "colab": {
          "base_uri": "https://localhost:8080/",
          "height": 51
        },
        "outputId": "af4e0b7a-6284-4e9f-b1f1-b414c6515101"
      },
      "source": [
        " \n",
        "#6.question\n",
        "salary=int(input(\"Enter the monthly salary:\"))\n",
        "if salary<=250000:\n",
        "   print(\"Tax is nill\")\n",
        "elif salary>250000 or salary<=250000:\n",
        "   tax=(salary*5/100)\n",
        "   print(\"Tax is:\",tax)\n",
        "elif salary>500000 or salary<=750000:\n",
        "   tax=(salary*10/100)\n",
        "   print(\"Tax is:\",tax)\n",
        "elif salary>750000 or salary<=1000000:\n",
        "   tax=(salary*15/100)\n",
        "   print(\"Tax is:\",tax)\n",
        "elif salary>1000000 or salary<=1250000:\n",
        "   tax=(salary*20/100)\n",
        "   print(\"Tax is:\",taxu)\n",
        "elif salary>1250000 or salary<=1500000:\n",
        "   tax=(salary*25/100)\n",
        "   print(\"Tax is:\",tax)\n",
        "else :\n",
        "   tax=(salary*30/100)\n",
        "   print(\"Tax is:\",tax)"
      ],
      "execution_count": null,
      "outputs": [
        {
          "output_type": "stream",
          "text": [
            "Enter the monthly salary:5005000\n",
            "Tax is: 250250.0\n"
          ],
          "name": "stdout"
        }
      ]
    },
    {
      "cell_type": "code",
      "metadata": {
        "id": "RdwYWI3xcelN",
        "colab_type": "code",
        "colab": {
          "base_uri": "https://localhost:8080/",
          "height": 122
        },
        "outputId": "15ef3c8b-e9c8-4af0-e212-c491fe35bc70"
      },
      "source": [
        "#7.question\n",
        "def comblistele(m):\n",
        "    numblist=[]\n",
        "    string=''\n",
        "    for i in range(0,m):\n",
        "      numb=int(input(\"Enter number to add in list:\"))\n",
        "      numblist.append(numb)\n",
        "      string=string+str(numb)\n",
        "    num=str(string)\n",
        "    return num\n",
        "m=int(input(\"Enter number of elements in the list:\"))\n",
        "print(comblistele(m))"
      ],
      "execution_count": null,
      "outputs": [
        {
          "output_type": "stream",
          "text": [
            "Enter number of elements in the list:3\n",
            "Enter number to add in list:11\n",
            "Enter number to add in list:33\n",
            "Enter number to add in list:50\n",
            "113350\n"
          ],
          "name": "stdout"
        }
      ]
    },
    {
      "cell_type": "code",
      "metadata": {
        "id": "Zaix54Qse0u6",
        "colab_type": "code",
        "colab": {
          "base_uri": "https://localhost:8080/",
          "height": 102
        },
        "outputId": "93fc9378-1678-4a6e-a416-d619af636474"
      },
      "source": [
        "#8.question\n",
        "def time_hours_sec(dy,hr,ms,se):\n",
        "    dy*=24*60*60\n",
        "    hr*=60*60\n",
        "    ms*=60\n",
        "    return dy+hr+ms+se\n",
        "days=int(input(\"Enter number of days:\"))\n",
        "hours=int(input(\"Enter number of hours:\"))\n",
        "mins=int(input(\"Enter number of minutes:\"))\n",
        "secs=int(input(\"Enter number of seconds:\"))\n",
        "print('Total seconds:{}'.format(time_hours_sec(days,hours,mins,secs)))"
      ],
      "execution_count": 122,
      "outputs": [
        {
          "output_type": "stream",
          "text": [
            "Enter number of days:3\n",
            "Enter number of hours:43\n",
            "Enter number of minutes:56\n",
            "Enter number of seconds:67\n",
            "Total seconds:417427\n"
          ],
          "name": "stdout"
        }
      ]
    },
    {
      "cell_type": "code",
      "metadata": {
        "id": "CApmWh0pi41F",
        "colab_type": "code",
        "colab": {
          "base_uri": "https://localhost:8080/",
          "height": 85
        },
        "outputId": "d77a34bf-208d-4148-f251-0a329021d2b5"
      },
      "source": [
        "#9.question\n",
        "def sortdata(nums):\n",
        "    nums=[numb1,numb2,numb3]\n",
        "    maximum=max(nums)\n",
        "    nums.remove(maximum)\n",
        "    minimum=min(nums)\n",
        "    nums.remove(minimum)\n",
        "    newlist=[maximum,nums[0],minimum]\n",
        "    return newlist\n",
        "numb1=int(input(\"Enter 1st number in list:\"))\n",
        "numb2=int(input(\"Enter 2nd number in list:\"))\n",
        "numb3=int(input(\"Enter 3rd number in list:\"))\n",
        "numlist=[numb1,numb2,numb3]\n",
        "sortedlist=sortdata(numlist)\n",
        "print(sortedlist)"
      ],
      "execution_count": 123,
      "outputs": [
        {
          "output_type": "stream",
          "text": [
            "Enter 1st number in list:11\n",
            "Enter 2nd number in list:29\n",
            "Enter 3rd number in list:18\n",
            "[29, 18, 11]\n"
          ],
          "name": "stdout"
        }
      ]
    },
    {
      "cell_type": "code",
      "metadata": {
        "id": "C9I-577n3q0e",
        "colab_type": "code",
        "colab": {
          "base_uri": "https://localhost:8080/",
          "height": 71
        },
        "outputId": "0ad6f55b-60b1-4ddd-e9a8-0556cb6bc050"
      },
      "source": [
        "#10.question\n",
        "def nextday(date,month,year):\n",
        "    date+=1\n",
        "    if month%2==1 and month<=7 and date ==32:\n",
        "       month+=1\n",
        "       date=1\n",
        "    elif month%2==0 and month<7 and date==31:\n",
        "       month+=1\n",
        "       date=1\n",
        "    elif month%2==0 and month>7 and date==32:\n",
        "       month+=1\n",
        "       date=1\n",
        "    if month==13:\n",
        "       month=1\n",
        "       year+=1\n",
        "    return '{:04d}'.format(year)+'-'+'{:02d}'.format(month)+'-'+'{:02d}'.format(date)\n",
        "day=input(\"Enter date (format YY-MM-DD):\")\n",
        "year=int(day[0:4])\n",
        "month=int(day[5:7])\n",
        "date=int(day[-2:])\n",
        "if month<=12 and month>=1 and date>=1 and date:\n",
        " print(nextday(date,month,year))\n",
        "else:\n",
        " print('Invalid day input')"
      ],
      "execution_count": 127,
      "outputs": [
        {
          "output_type": "stream",
          "text": [
            "Enter date (format YY-MM-DD):2024-11-30\n",
            "2024-11-31\n"
          ],
          "name": "stdout"
        }
      ]
    },
    {
      "cell_type": "code",
      "metadata": {
        "id": "Jy0Qfhfe9ItS",
        "colab_type": "code",
        "colab": {
          "base_uri": "https://localhost:8080/",
          "height": 34
        },
        "outputId": "b0877dfe-634e-4e4e-e848-f5b62451a2f6"
      },
      "source": [
        "#11.question\n",
        "def product(numblist):\n",
        "    product=1\n",
        "    for i in numblist:\n",
        "        product= product*i\n",
        "    return product\n",
        "numblist=[45,3,2,89,72,1,10,7]\n",
        "print(product(numblist))"
      ],
      "execution_count": 125,
      "outputs": [
        {
          "output_type": "stream",
          "text": [
            "121111200\n"
          ],
          "name": "stdout"
        }
      ]
    },
    {
      "cell_type": "code",
      "metadata": {
        "id": "TWO_1S0u-5t-",
        "colab_type": "code",
        "colab": {
          "base_uri": "https://localhost:8080/",
          "height": 34
        },
        "outputId": "b19ba36a-fee7-4028-c7b2-84b109f8b5b0"
      },
      "source": [
        "#12.question\n",
        "def addlist(numblist):\n",
        "   i=0\n",
        "   updatedlist=[]\n",
        "   while i < len(numblist)-1:\n",
        "     updatedlist.append(numblist[i]+numblist[i+1])\n",
        "     i+=1\n",
        "   return updatedlist\n",
        "numblist=[5,6,8,34,89,1]\n",
        "print(addlist(numblist))"
      ],
      "execution_count": 126,
      "outputs": [
        {
          "output_type": "stream",
          "text": [
            "[11, 14, 42, 123, 90]\n"
          ],
          "name": "stdout"
        }
      ]
    },
    {
      "cell_type": "code",
      "metadata": {
        "id": "4JlqVFywItVk",
        "colab_type": "code",
        "colab": {
          "base_uri": "https://localhost:8080/",
          "height": 34
        },
        "outputId": "1cbe19e4-37e7-4daa-fee1-5b293c586248"
      },
      "source": [
        "#13.question\n",
        "def multi(numbtuple):\n",
        "    multi=1\n",
        "    i=0\n",
        "    newlist=[]\n",
        "    while i<len(numbtuple):\n",
        "      multi*=numbtuple[i]\n",
        "      newlist.append(multi)\n",
        "      i+=1\n",
        "    return newlist\n",
        "numbtuple=(5,6,8,3,9,1)\n",
        "print(multi(numbtuple))"
      ],
      "execution_count": null,
      "outputs": [
        {
          "output_type": "stream",
          "text": [
            "[5, 30, 240, 720, 6480, 6480]\n"
          ],
          "name": "stdout"
        }
      ]
    },
    {
      "cell_type": "code",
      "metadata": {
        "id": "9hmdHpJjKTXN",
        "colab_type": "code",
        "colab": {
          "base_uri": "https://localhost:8080/",
          "height": 51
        },
        "outputId": "795cc401-46a4-450b-90fe-5422a7d6760d"
      },
      "source": [
        " #14.question\n",
        "def intnlist(integer):\n",
        "    initstr=str(integer)\n",
        "    initlist=[]\n",
        "    for i in range(0,len(initstr)):\n",
        "      initlist.append(initstr[i])\n",
        "      i+=1\n",
        "    return initlist\n",
        "numb=int(input(\"Enter the integer:\"))\n",
        "print(intnlist(numb))"
      ],
      "execution_count": null,
      "outputs": [
        {
          "output_type": "stream",
          "text": [
            "Enter the integer:586392\n",
            "['5', '8', '6', '3', '9', '2']\n"
          ],
          "name": "stdout"
        }
      ]
    },
    {
      "cell_type": "code",
      "metadata": {
        "id": "eaD1CXkBignG",
        "colab_type": "code",
        "colab": {
          "base_uri": "https://localhost:8080/",
          "height": 51
        },
        "outputId": "ac5ad4c6-fd6a-4100-a0e9-4ba29b4e0130"
      },
      "source": [
        "#15.question\n",
        "string=input(\"Enter a string:\")\n",
        "list1=[]\n",
        "list2=[]\n",
        "index=0\n",
        "for i in range(0,len(string)-1):\n",
        "    for j in range(i+1,len(string)+1):\n",
        "       if j-i>1:\n",
        "          c=string[i:j]\n",
        "          if (c==c[::-1]):\n",
        "             list1.append(string[i:j]) \n",
        "             list2.append(len(string[i:j]))\n",
        "maxmum=max(list2)\n",
        "for i in list2:\n",
        "    if i==maxmum:\n",
        "       print(list1[index])\n",
        "    else:\n",
        "       index=index+1"
      ],
      "execution_count": 64,
      "outputs": [
        {
          "output_type": "stream",
          "text": [
            "Enter a string:heissos\n",
            "sos\n"
          ],
          "name": "stdout"
        }
      ]
    },
    {
      "cell_type": "code",
      "metadata": {
        "id": "2o73IR9Irx77",
        "colab_type": "code",
        "colab": {
          "base_uri": "https://localhost:8080/",
          "height": 88
        },
        "outputId": "9d1e14c7-5f5a-457b-8e36-297cebd6c490"
      },
      "source": [
        "#16.question\n",
        "def substring(str1,str2):\n",
        "    str1len=len(str1)\n",
        "    test=0\n",
        "    for i in range(0,str1len):\n",
        "      if str1[i:i+len(str2)]==str2:\n",
        "        test=1\n",
        "    return test\n",
        "s=input(\"Enter a binary number s:\")\n",
        "s1=input(\"Enter another binary number s1:\")\n",
        "if substring(s,s1):\n",
        "   print(\"s1 is a substring of s\")\n",
        "else:\n",
        "   print(\"s1 is not a substring of s\")"
      ],
      "execution_count": 67,
      "outputs": [
        {
          "output_type": "stream",
          "text": [
            "Enter a binary number s:1010110010\n",
            "Enter another binary number s1:10110\n",
            "s1 is a substring of s\n"
          ],
          "name": "stdout"
        }
      ]
    },
    {
      "cell_type": "code",
      "metadata": {
        "id": "JbihmzoGuQcX",
        "colab_type": "code",
        "colab": {
          "base_uri": "https://localhost:8080/",
          "height": 190
        },
        "outputId": "f6a40395-dd47-44e3-adad-377682b6d839"
      },
      "source": [
        "#17.question\n",
        "def checkout(a,b,c):\n",
        "     v1=0\n",
        "     v2=0\n",
        "     i=0\n",
        "     while True:\n",
        "         if v1+v2!=c:\n",
        "             if v1<a:\n",
        "               v1+=1\n",
        "         else:\n",
        "             break\n",
        "         if v1+v2!=c:\n",
        "             if v2<b:\n",
        "               v2+=1\n",
        "         else:\n",
        "             break\n",
        "         i+=1 \n",
        "     return i\n",
        "ans_list=[]\n",
        "ts=0\n",
        "n=int(input(\"Enter number of test case:\"))\n",
        "while ts<n:\n",
        "     a=int(input(\"Enter capacity of A vessel:\"))\n",
        "     b=int(input(\"Enter capacity of B vessel:\"))\n",
        "     c=int(input(\"Enter required liters of water:\"))\n",
        "     if a<c and b<c:\n",
        "         ts+=1\n",
        "         ans_list.append(-1)\n",
        "     else:\n",
        "         if a<b:\n",
        "            ts+=1\n",
        "            ans_list.append(checkout(a,b,c))\n",
        "         else:\n",
        "            ts+=1\n",
        "            ans=checkout(a,b,c)\n",
        "            ans=ans+1\n",
        "            ans_list.append(ans)\n",
        "c=1\n",
        "for i in ans_list:\n",
        "    print(f\"For the test case{c} the output is{i}\")\n",
        "    c+=1"
      ],
      "execution_count": 99,
      "outputs": [
        {
          "output_type": "stream",
          "text": [
            "Enter number of test case:2\n",
            "Enter capacity of A vessel:5\n",
            "Enter capacity of B vessel:2\n",
            "Enter required liters of water:3\n",
            "Enter capacity of A vessel:2\n",
            "Enter capacity of B vessel:3\n",
            "Enter required liters of water:4\n",
            "For the test case1 the output is2\n",
            "For the test case2 the output is-1\n"
          ],
          "name": "stdout"
        }
      ]
    }
  ]
}